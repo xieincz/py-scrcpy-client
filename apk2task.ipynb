{
 "cells": [
  {
   "cell_type": "code",
   "execution_count": null,
   "metadata": {},
   "outputs": [],
   "source": [
    "#安装必要的库\n",
    "%pip install openai \"androguard>=4\" Pillow"
   ]
  },
  {
   "cell_type": "code",
   "execution_count": 1,
   "metadata": {},
   "outputs": [],
   "source": [
    "from androguard.util import set_log\n",
    "\n",
    "set_log(\"ERROR\")  # 关闭琐碎的DEBUG输出\n",
    "from androguard.misc import AnalyzeAPK\n",
    "from androguard.core.apk import APK\n",
    "import os\n",
    "import re\n",
    "import openai\n",
    "\n",
    "openai.api_key = \"sk-xxx\"\n",
    "openai.base_url = \"https://xxx/v1/\"  # 注意：最后要以斜杠/结尾\n",
    "model = \"gpt-4o\"  # 不建议更换其他模型\n",
    "# model = \"claude-3-opus\"\n",
    "\n",
    "openai.default_headers = {\"x-foo\": \"true\"}\n",
    "\n",
    "\n",
    "# https://androguard.readthedocs.io/en/latest/intro/gettingstarted.html"
   ]
  },
  {
   "cell_type": "code",
   "execution_count": 2,
   "metadata": {},
   "outputs": [],
   "source": [
    "prompt_template = \"\"\"当前app的名字是：{}，包名是：{}\n",
    "它有如下的activity：\n",
    "{}\n",
    "\n",
    "请你根据这些信息，列举出该app的能够在几步的操作内完成的task，例如：\n",
    "1. 观看视频\n",
    "2. 搜索视频\n",
    "3. 对搜索结果进行筛选、排序\n",
    "4. 评论视频\n",
    "5. 投币\n",
    "6. 点赞视频\n",
    "7. 收藏视频\n",
    "8. 点赞评论\n",
    "9. 回复评论\n",
    "10. 发送私信\n",
    "\n",
    "请注意，你只能列举task，不能输出任何多余的信息，并且要尽可能多地列举task。你列举的task应该是用户日常会使用到的功能。\n",
    "\"\"\"\n",
    "\n",
    "prompt_template2 = \"\"\"Task Examples:\n",
    "• 淘宝\n",
    "- 级别 1: 基础操作 - 搜索一台华为 Mate60。\n",
    "- 级别 2: 复杂操作 - 添加一台华为 Mate60 至购物车，并确认购物车内有此商品。\n",
    "- 级别 3: 多项任务组合 - 添加一台 1TB 的华为 Mate60 和它对应的手机壳至购物车，并确认购物车内有这些商品。\n",
    "\n",
    "• 高德地图\n",
    "- 级别 1: 基础操作 - 搜索一家附近的麦当劳。\n",
    "- 级别 2: 复杂操作 - 查找到一家附近麦当劳的步行路线。\n",
    "- 级别 3: 多项任务组合 - 查找到一家附近麦当劳的步行路线，途径一家附近的肯德基。\n",
    "\n",
    "请根据上面的样例，构建尽可能多的{}的级别3的操作。\n",
    "\n",
    "以下是{}的级别1和级别2的操作:\n",
    "{}\n",
    "\n",
    "请注意，你只能列举操作，不能输出任何多余的信息，并且要尽可能多地列举操作。你列举的操作应该是用户日常会使用到的功能。\n",
    "\"\"\"  # app name, app name, task_str"
   ]
  },
  {
   "cell_type": "code",
   "execution_count": 3,
   "metadata": {},
   "outputs": [],
   "source": [
    "def chat(prompt):\n",
    "    completion = openai.chat.completions.create(\n",
    "        model=model,\n",
    "        messages=[\n",
    "            {\n",
    "                \"role\": \"user\",\n",
    "                \"content\": prompt,\n",
    "            },\n",
    "        ],\n",
    "    )\n",
    "    return completion.choices[0].message.content\n",
    "\n",
    "\n",
    "def apk_to_simple_task(apk_object):\n",
    "    def parse_task(text):\n",
    "        pattern = r\"\\d+\\.+(.*)\"\n",
    "        matches = re.findall(pattern, text)\n",
    "        for i, match in enumerate(matches):\n",
    "            matches[i] = match.strip()\n",
    "        return matches\n",
    "\n",
    "    a = apk_object\n",
    "    activity = [act for act in a.get_activities()]\n",
    "    activity_str = \"\\n\".join(activity)\n",
    "    prompt = prompt_template.format(a.get_app_name(), a.get_package(), activity_str)\n",
    "    task = parse_task(chat(prompt))\n",
    "    return task\n",
    "\n",
    "\n",
    "def simple_task_to_level3_task(simple_task_list, a):\n",
    "    def parse_task(text):\n",
    "        pattern = r\"\\d+\\.+(.*)\"\n",
    "        matches = re.findall(pattern, text)\n",
    "        for i, match in enumerate(matches):\n",
    "            matches[i] = match.strip()\n",
    "        return matches\n",
    "\n",
    "    task_str = \"\"\n",
    "    for i, task in enumerate(simple_task_list):\n",
    "        task_str += f\"{i+1}. {task}\\n\"\n",
    "    p = prompt_template2.format(a.get_app_name(), a.get_app_name(), task_str)\n",
    "    c = chat(p)\n",
    "    t = parse_task(c)\n",
    "    return t\n",
    "\n",
    "\n",
    "def save_to_md(a, tasklist, level3_task_list):\n",
    "    fn = f\"{a.get_package()}.md\"\n",
    "    with open(fn, \"w\") as f:\n",
    "        f.write(f\"# {a.get_app_name()}\\n\\n\")\n",
    "        f.write(f\"包名：{a.get_package()}\\n\\n\")\n",
    "        f.write(f\"main activity: {a.get_main_activity()}\\n\\n\")\n",
    "        f.write(\"## 级别1~2的任务\\n\\n\")\n",
    "        for i, task in enumerate(tasklist):\n",
    "            f.write(f\"{i+1}. {task}\\n\\n\")\n",
    "        f.write(\"## 级别3的任务\\n\\n\")\n",
    "        for i, task in enumerate(level3_task_list):\n",
    "            f.write(f\"{i+1}. {task}\\n\\n\")\n",
    "\n",
    "\n",
    "def process_apk(apk_path):\n",
    "    # a, d, dx = AnalyzeAPK(apk_path)\n",
    "    a = APK(apk_path)\n",
    "    tasklist = apk_to_simple_task(a)\n",
    "    level3_task_list = simple_task_to_level3_task(tasklist, a)\n",
    "    save_to_md(a, tasklist, level3_task_list)"
   ]
  },
  {
   "cell_type": "code",
   "execution_count": null,
   "metadata": {},
   "outputs": [],
   "source": [
    "folder = rf\"D:\\nd\\hw\\level\"\n",
    "fn = \"bilibili.apk\"\n",
    "\n",
    "apk_fp = os.path.join(folder, fn)  # apk文件路径\n",
    "\n",
    "process_apk(apk_fp)"
   ]
  },
  {
   "cell_type": "code",
   "execution_count": null,
   "metadata": {},
   "outputs": [],
   "source": []
  },
  {
   "cell_type": "code",
   "execution_count": null,
   "metadata": {},
   "outputs": [],
   "source": []
  },
  {
   "cell_type": "code",
   "execution_count": 1,
   "metadata": {},
   "outputs": [],
   "source": [
    "from androguard.util import set_log\n",
    "\n",
    "set_log(\"ERROR\")  # 关闭琐碎的DEBUG输出\n",
    "from androguard.core.apk import APK\n",
    "import os"
   ]
  },
  {
   "cell_type": "code",
   "execution_count": 2,
   "metadata": {},
   "outputs": [
    {
     "data": {
      "text/plain": [
       "('QQ音乐',\n",
       " 'com.tencent.qqmusic',\n",
       " 'com.tencent.qqmusic.activity.AppStarterActivity')"
      ]
     },
     "execution_count": 2,
     "metadata": {},
     "output_type": "execute_result"
    }
   ],
   "source": [
    "folder = rf\"D:\\nd\\hw\\level\"\n",
    "fn = \"QQMusic_13.0.0.11_APKPure.apk\"\n",
    "apk_fp = os.path.join(folder, fn)  # apk文件路径\n",
    "a = APK(apk_fp)\n",
    "\n",
    "a.get_app_name(), a.get_package(), a.get_main_activity()"
   ]
  },
  {
   "cell_type": "code",
   "execution_count": null,
   "metadata": {},
   "outputs": [],
   "source": []
  },
  {
   "cell_type": "code",
   "execution_count": 1,
   "metadata": {},
   "outputs": [],
   "source": [
    "import openai\n",
    "\n",
    "openai.api_key = \"sk-xxx\"\n",
    "openai.base_url = \"https://xxx/v1/\"  # 注意：最后要以斜杠/结尾\n",
    "model = \"gpt-4o\"\n",
    "\n",
    "openai.default_headers = {\"x-foo\": \"true\"}"
   ]
  },
  {
   "cell_type": "code",
   "execution_count": 2,
   "metadata": {},
   "outputs": [],
   "source": [
    "def chat(prompt):\n",
    "    completion = openai.chat.completions.create(\n",
    "        model=model,\n",
    "        messages=[\n",
    "            {\n",
    "                \"role\": \"user\",\n",
    "                \"content\": prompt,\n",
    "            },\n",
    "        ],\n",
    "    )\n",
    "    return completion.choices[0].message.content"
   ]
  },
  {
   "cell_type": "code",
   "execution_count": 3,
   "metadata": {},
   "outputs": [
    {
     "data": {
      "text/plain": [
       "'鲁迅是周树人的笔名，实际上鲁迅和周树人是同一个人。因此鲁迅并不存在“打”周树人的情况。这个问题可能是基于误解或玩笑而提出的。鲁迅是中国现代文学的重要作家，他用笔名发表了许多重要作品。'"
      ]
     },
     "execution_count": 3,
     "metadata": {},
     "output_type": "execute_result"
    }
   ],
   "source": [
    "chat(\"鲁迅为什么打周树人\")"
   ]
  },
  {
   "cell_type": "code",
   "execution_count": 4,
   "metadata": {},
   "outputs": [
    {
     "data": {
      "text/plain": [
       "'It seems you have a query about a dish called \"西红柿炒钢丝球\" (Tomato Stir-fried with Steel Wool). However, \"钢丝球\" (Steel Wool) is not an edible item and it might be a misunderstanding or typo. If you meant a different ingredient or dish, could you please clarify? If you are looking for a recipe involving tomatoes and a specific ingredient, let me know and I can help with that.'"
      ]
     },
     "execution_count": 4,
     "metadata": {},
     "output_type": "execute_result"
    }
   ],
   "source": [
    "chat(\"如何制作西红柿炒钢丝球\")"
   ]
  },
  {
   "cell_type": "code",
   "execution_count": null,
   "metadata": {},
   "outputs": [],
   "source": []
  },
  {
   "cell_type": "code",
   "execution_count": null,
   "metadata": {},
   "outputs": [],
   "source": []
  }
 ],
 "metadata": {
  "kernelspec": {
   "display_name": "droidbot",
   "language": "python",
   "name": "python3"
  },
  "language_info": {
   "codemirror_mode": {
    "name": "ipython",
    "version": 3
   },
   "file_extension": ".py",
   "mimetype": "text/x-python",
   "name": "python",
   "nbconvert_exporter": "python",
   "pygments_lexer": "ipython3",
   "version": "3.10.14"
  }
 },
 "nbformat": 4,
 "nbformat_minor": 2
}
